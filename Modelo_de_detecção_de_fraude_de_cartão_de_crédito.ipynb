{
  "nbformat": 4,
  "nbformat_minor": 0,
  "metadata": {
    "colab": {
      "name": "Modelo de detecção de fraude de cartão de crédito.ipynb",
      "provenance": [],
      "collapsed_sections": [],
      "mount_file_id": "1ri7Z-IF9VG7lOB4ClsKoScOVfGrR1ejA",
      "authorship_tag": "ABX9TyP2rJn+UbuoGMF+EOjUCEsV",
      "include_colab_link": true
    },
    "kernelspec": {
      "name": "python3",
      "display_name": "Python 3"
    },
    "language_info": {
      "name": "python"
    }
  },
  "cells": [
    {
      "cell_type": "markdown",
      "metadata": {
        "id": "view-in-github",
        "colab_type": "text"
      },
      "source": [
        "<a href=\"https://colab.research.google.com/github/GUSTAVObbarbosa/ferramentas_survey123/blob/main/Modelo_de_detec%C3%A7%C3%A3o_de_fraude_de_cart%C3%A3o_de_cr%C3%A9dito.ipynb\" target=\"_parent\"><img src=\"https://colab.research.google.com/assets/colab-badge.svg\" alt=\"Open In Colab\"/></a>"
      ]
    },
    {
      "cell_type": "markdown",
      "source": [
        "##Detecção de Fraudes de Cartões de Crédito\n",
        "\n",
        "Como sabemos, as fraudes em cartões de crédito tem crescido cada dia mais. Com o avanço das tecnologias, os golpistas também se modernizam para realizar essas fraudes.\n",
        "\n",
        "O objetivo desse projeto é desenvolver um modelo de detecção de fraude de cartões de crédito, de forma a auxiliar na tomada de decisão para ações em caso de possível fraude detectada."
      ],
      "metadata": {
        "id": "RmB8gyG8QSUf"
      }
    },
    {
      "cell_type": "markdown",
      "source": [
        "##Dados utilizados\n",
        "\n",
        "Os dados utilizadas para elaboração e treino do modelo foram disponibilizados pela European cardholders e registros de transações realziadas em setembro de 2013.\n",
        "\n",
        "Todas as variáves do dataset estão identificadas como \"V1\", \"V2\", \"V3\" e assim adiante e são o principal componente obtido através de PCA (<i>Principal Component Analysis</i>) possibilitando a correlação entre variáveis.\n",
        "\n",
        "Somente as variáeis \"Time\", \"Amount\" e \"Class\" não foram convertidas, onde:\n",
        "* Time: tempo em segundos entre cada transação e também indica a primeira transação;\n",
        "* Amount: valor da transação;\n",
        "* Class: indica se houve fraude ou não, sendo 1 = Fraude e 0 = Não fraude.\n",
        "\n",
        "Resumo do dataset:\n",
        "- Variáveis: 28\n",
        "- Entradas: 284.807\n",
        "- Fraudes: 492 (ou 0,172%)"
      ],
      "metadata": {
        "id": "ih6_VPkixqII"
      }
    },
    {
      "cell_type": "code",
      "source": [
        "#Importando o dataset\n",
        "import pandas as pd\n",
        "import matplotlib.pyplot as plt\n",
        "import seaborn as sns\n",
        "\n",
        "creditcard= \"https://www.dropbox.com/s/b44o3t3ehmnx2b7/creditcard.csv?dl=1\"\n",
        "\n",
        "df = pd.read_csv(creditcard)"
      ],
      "metadata": {
        "id": "gke3ESQpx7rn"
      },
      "execution_count": null,
      "outputs": []
    },
    {
      "cell_type": "code",
      "source": [
        "#Verificar as primeiras entradas do dataset\n",
        "df.head()"
      ],
      "metadata": {
        "colab": {
          "base_uri": "https://localhost:8080/",
          "height": 300
        },
        "id": "ixVscUWZ1578",
        "outputId": "05f652ef-7b86-4022-d50e-db77a7e97cda"
      },
      "execution_count": null,
      "outputs": [
        {
          "output_type": "execute_result",
          "data": {
            "text/plain": [
              "   Time        V1        V2        V3        V4        V5        V6        V7  \\\n",
              "0   0.0 -1.359807 -0.072781  2.536347  1.378155 -0.338321  0.462388  0.239599   \n",
              "1   0.0  1.191857  0.266151  0.166480  0.448154  0.060018 -0.082361 -0.078803   \n",
              "2   1.0 -1.358354 -1.340163  1.773209  0.379780 -0.503198  1.800499  0.791461   \n",
              "3   1.0 -0.966272 -0.185226  1.792993 -0.863291 -0.010309  1.247203  0.237609   \n",
              "4   2.0 -1.158233  0.877737  1.548718  0.403034 -0.407193  0.095921  0.592941   \n",
              "\n",
              "         V8        V9  ...       V21       V22       V23       V24       V25  \\\n",
              "0  0.098698  0.363787  ... -0.018307  0.277838 -0.110474  0.066928  0.128539   \n",
              "1  0.085102 -0.255425  ... -0.225775 -0.638672  0.101288 -0.339846  0.167170   \n",
              "2  0.247676 -1.514654  ...  0.247998  0.771679  0.909412 -0.689281 -0.327642   \n",
              "3  0.377436 -1.387024  ... -0.108300  0.005274 -0.190321 -1.175575  0.647376   \n",
              "4 -0.270533  0.817739  ... -0.009431  0.798278 -0.137458  0.141267 -0.206010   \n",
              "\n",
              "        V26       V27       V28  Amount  Class  \n",
              "0 -0.189115  0.133558 -0.021053  149.62      0  \n",
              "1  0.125895 -0.008983  0.014724    2.69      0  \n",
              "2 -0.139097 -0.055353 -0.059752  378.66      0  \n",
              "3 -0.221929  0.062723  0.061458  123.50      0  \n",
              "4  0.502292  0.219422  0.215153   69.99      0  \n",
              "\n",
              "[5 rows x 31 columns]"
            ],
            "text/html": [
              "\n",
              "  <div id=\"df-814d8f58-ce8e-48dc-a836-f4ebd12db28a\">\n",
              "    <div class=\"colab-df-container\">\n",
              "      <div>\n",
              "<style scoped>\n",
              "    .dataframe tbody tr th:only-of-type {\n",
              "        vertical-align: middle;\n",
              "    }\n",
              "\n",
              "    .dataframe tbody tr th {\n",
              "        vertical-align: top;\n",
              "    }\n",
              "\n",
              "    .dataframe thead th {\n",
              "        text-align: right;\n",
              "    }\n",
              "</style>\n",
              "<table border=\"1\" class=\"dataframe\">\n",
              "  <thead>\n",
              "    <tr style=\"text-align: right;\">\n",
              "      <th></th>\n",
              "      <th>Time</th>\n",
              "      <th>V1</th>\n",
              "      <th>V2</th>\n",
              "      <th>V3</th>\n",
              "      <th>V4</th>\n",
              "      <th>V5</th>\n",
              "      <th>V6</th>\n",
              "      <th>V7</th>\n",
              "      <th>V8</th>\n",
              "      <th>V9</th>\n",
              "      <th>...</th>\n",
              "      <th>V21</th>\n",
              "      <th>V22</th>\n",
              "      <th>V23</th>\n",
              "      <th>V24</th>\n",
              "      <th>V25</th>\n",
              "      <th>V26</th>\n",
              "      <th>V27</th>\n",
              "      <th>V28</th>\n",
              "      <th>Amount</th>\n",
              "      <th>Class</th>\n",
              "    </tr>\n",
              "  </thead>\n",
              "  <tbody>\n",
              "    <tr>\n",
              "      <th>0</th>\n",
              "      <td>0.0</td>\n",
              "      <td>-1.359807</td>\n",
              "      <td>-0.072781</td>\n",
              "      <td>2.536347</td>\n",
              "      <td>1.378155</td>\n",
              "      <td>-0.338321</td>\n",
              "      <td>0.462388</td>\n",
              "      <td>0.239599</td>\n",
              "      <td>0.098698</td>\n",
              "      <td>0.363787</td>\n",
              "      <td>...</td>\n",
              "      <td>-0.018307</td>\n",
              "      <td>0.277838</td>\n",
              "      <td>-0.110474</td>\n",
              "      <td>0.066928</td>\n",
              "      <td>0.128539</td>\n",
              "      <td>-0.189115</td>\n",
              "      <td>0.133558</td>\n",
              "      <td>-0.021053</td>\n",
              "      <td>149.62</td>\n",
              "      <td>0</td>\n",
              "    </tr>\n",
              "    <tr>\n",
              "      <th>1</th>\n",
              "      <td>0.0</td>\n",
              "      <td>1.191857</td>\n",
              "      <td>0.266151</td>\n",
              "      <td>0.166480</td>\n",
              "      <td>0.448154</td>\n",
              "      <td>0.060018</td>\n",
              "      <td>-0.082361</td>\n",
              "      <td>-0.078803</td>\n",
              "      <td>0.085102</td>\n",
              "      <td>-0.255425</td>\n",
              "      <td>...</td>\n",
              "      <td>-0.225775</td>\n",
              "      <td>-0.638672</td>\n",
              "      <td>0.101288</td>\n",
              "      <td>-0.339846</td>\n",
              "      <td>0.167170</td>\n",
              "      <td>0.125895</td>\n",
              "      <td>-0.008983</td>\n",
              "      <td>0.014724</td>\n",
              "      <td>2.69</td>\n",
              "      <td>0</td>\n",
              "    </tr>\n",
              "    <tr>\n",
              "      <th>2</th>\n",
              "      <td>1.0</td>\n",
              "      <td>-1.358354</td>\n",
              "      <td>-1.340163</td>\n",
              "      <td>1.773209</td>\n",
              "      <td>0.379780</td>\n",
              "      <td>-0.503198</td>\n",
              "      <td>1.800499</td>\n",
              "      <td>0.791461</td>\n",
              "      <td>0.247676</td>\n",
              "      <td>-1.514654</td>\n",
              "      <td>...</td>\n",
              "      <td>0.247998</td>\n",
              "      <td>0.771679</td>\n",
              "      <td>0.909412</td>\n",
              "      <td>-0.689281</td>\n",
              "      <td>-0.327642</td>\n",
              "      <td>-0.139097</td>\n",
              "      <td>-0.055353</td>\n",
              "      <td>-0.059752</td>\n",
              "      <td>378.66</td>\n",
              "      <td>0</td>\n",
              "    </tr>\n",
              "    <tr>\n",
              "      <th>3</th>\n",
              "      <td>1.0</td>\n",
              "      <td>-0.966272</td>\n",
              "      <td>-0.185226</td>\n",
              "      <td>1.792993</td>\n",
              "      <td>-0.863291</td>\n",
              "      <td>-0.010309</td>\n",
              "      <td>1.247203</td>\n",
              "      <td>0.237609</td>\n",
              "      <td>0.377436</td>\n",
              "      <td>-1.387024</td>\n",
              "      <td>...</td>\n",
              "      <td>-0.108300</td>\n",
              "      <td>0.005274</td>\n",
              "      <td>-0.190321</td>\n",
              "      <td>-1.175575</td>\n",
              "      <td>0.647376</td>\n",
              "      <td>-0.221929</td>\n",
              "      <td>0.062723</td>\n",
              "      <td>0.061458</td>\n",
              "      <td>123.50</td>\n",
              "      <td>0</td>\n",
              "    </tr>\n",
              "    <tr>\n",
              "      <th>4</th>\n",
              "      <td>2.0</td>\n",
              "      <td>-1.158233</td>\n",
              "      <td>0.877737</td>\n",
              "      <td>1.548718</td>\n",
              "      <td>0.403034</td>\n",
              "      <td>-0.407193</td>\n",
              "      <td>0.095921</td>\n",
              "      <td>0.592941</td>\n",
              "      <td>-0.270533</td>\n",
              "      <td>0.817739</td>\n",
              "      <td>...</td>\n",
              "      <td>-0.009431</td>\n",
              "      <td>0.798278</td>\n",
              "      <td>-0.137458</td>\n",
              "      <td>0.141267</td>\n",
              "      <td>-0.206010</td>\n",
              "      <td>0.502292</td>\n",
              "      <td>0.219422</td>\n",
              "      <td>0.215153</td>\n",
              "      <td>69.99</td>\n",
              "      <td>0</td>\n",
              "    </tr>\n",
              "  </tbody>\n",
              "</table>\n",
              "<p>5 rows × 31 columns</p>\n",
              "</div>\n",
              "      <button class=\"colab-df-convert\" onclick=\"convertToInteractive('df-814d8f58-ce8e-48dc-a836-f4ebd12db28a')\"\n",
              "              title=\"Convert this dataframe to an interactive table.\"\n",
              "              style=\"display:none;\">\n",
              "        \n",
              "  <svg xmlns=\"http://www.w3.org/2000/svg\" height=\"24px\"viewBox=\"0 0 24 24\"\n",
              "       width=\"24px\">\n",
              "    <path d=\"M0 0h24v24H0V0z\" fill=\"none\"/>\n",
              "    <path d=\"M18.56 5.44l.94 2.06.94-2.06 2.06-.94-2.06-.94-.94-2.06-.94 2.06-2.06.94zm-11 1L8.5 8.5l.94-2.06 2.06-.94-2.06-.94L8.5 2.5l-.94 2.06-2.06.94zm10 10l.94 2.06.94-2.06 2.06-.94-2.06-.94-.94-2.06-.94 2.06-2.06.94z\"/><path d=\"M17.41 7.96l-1.37-1.37c-.4-.4-.92-.59-1.43-.59-.52 0-1.04.2-1.43.59L10.3 9.45l-7.72 7.72c-.78.78-.78 2.05 0 2.83L4 21.41c.39.39.9.59 1.41.59.51 0 1.02-.2 1.41-.59l7.78-7.78 2.81-2.81c.8-.78.8-2.07 0-2.86zM5.41 20L4 18.59l7.72-7.72 1.47 1.35L5.41 20z\"/>\n",
              "  </svg>\n",
              "      </button>\n",
              "      \n",
              "  <style>\n",
              "    .colab-df-container {\n",
              "      display:flex;\n",
              "      flex-wrap:wrap;\n",
              "      gap: 12px;\n",
              "    }\n",
              "\n",
              "    .colab-df-convert {\n",
              "      background-color: #E8F0FE;\n",
              "      border: none;\n",
              "      border-radius: 50%;\n",
              "      cursor: pointer;\n",
              "      display: none;\n",
              "      fill: #1967D2;\n",
              "      height: 32px;\n",
              "      padding: 0 0 0 0;\n",
              "      width: 32px;\n",
              "    }\n",
              "\n",
              "    .colab-df-convert:hover {\n",
              "      background-color: #E2EBFA;\n",
              "      box-shadow: 0px 1px 2px rgba(60, 64, 67, 0.3), 0px 1px 3px 1px rgba(60, 64, 67, 0.15);\n",
              "      fill: #174EA6;\n",
              "    }\n",
              "\n",
              "    [theme=dark] .colab-df-convert {\n",
              "      background-color: #3B4455;\n",
              "      fill: #D2E3FC;\n",
              "    }\n",
              "\n",
              "    [theme=dark] .colab-df-convert:hover {\n",
              "      background-color: #434B5C;\n",
              "      box-shadow: 0px 1px 3px 1px rgba(0, 0, 0, 0.15);\n",
              "      filter: drop-shadow(0px 1px 2px rgba(0, 0, 0, 0.3));\n",
              "      fill: #FFFFFF;\n",
              "    }\n",
              "  </style>\n",
              "\n",
              "      <script>\n",
              "        const buttonEl =\n",
              "          document.querySelector('#df-814d8f58-ce8e-48dc-a836-f4ebd12db28a button.colab-df-convert');\n",
              "        buttonEl.style.display =\n",
              "          google.colab.kernel.accessAllowed ? 'block' : 'none';\n",
              "\n",
              "        async function convertToInteractive(key) {\n",
              "          const element = document.querySelector('#df-814d8f58-ce8e-48dc-a836-f4ebd12db28a');\n",
              "          const dataTable =\n",
              "            await google.colab.kernel.invokeFunction('convertToInteractive',\n",
              "                                                     [key], {});\n",
              "          if (!dataTable) return;\n",
              "\n",
              "          const docLinkHtml = 'Like what you see? Visit the ' +\n",
              "            '<a target=\"_blank\" href=https://colab.research.google.com/notebooks/data_table.ipynb>data table notebook</a>'\n",
              "            + ' to learn more about interactive tables.';\n",
              "          element.innerHTML = '';\n",
              "          dataTable['output_type'] = 'display_data';\n",
              "          await google.colab.output.renderOutput(dataTable, element);\n",
              "          const docLink = document.createElement('div');\n",
              "          docLink.innerHTML = docLinkHtml;\n",
              "          element.appendChild(docLink);\n",
              "        }\n",
              "      </script>\n",
              "    </div>\n",
              "  </div>\n",
              "  "
            ]
          },
          "metadata": {},
          "execution_count": 3
        }
      ]
    },
    {
      "cell_type": "code",
      "source": [
        "#Distribuição da feature \"Class\"\n",
        "df['Class'].value_counts()"
      ],
      "metadata": {
        "colab": {
          "base_uri": "https://localhost:8080/"
        },
        "id": "T7guiAAe0E30",
        "outputId": "9dc80157-ff1e-48f9-e276-52204a828900"
      },
      "execution_count": null,
      "outputs": [
        {
          "output_type": "execute_result",
          "data": {
            "text/plain": [
              "0    284315\n",
              "1       492\n",
              "Name: Class, dtype: int64"
            ]
          },
          "metadata": {},
          "execution_count": 3
        }
      ]
    },
    {
      "cell_type": "code",
      "source": [
        "plt.rcParams['font.family']='Arial'\n",
        "\n",
        "fig, ax = plt.subplots(figsize=(5,5))\n",
        "\n",
        "x = ['Não fraude', 'Fraude']\n",
        "y = df['Class'].value_counts()\n",
        "\n",
        "ax.set_title('Distribuição dos caso de detecção de fraude')\n",
        "ax.set_ylabel('Total de casos')\n",
        "ax.set_xlabel('Classes')\n",
        "\n",
        "plt.bar(x,y, width=0.7) \n",
        "\n",
        "plt.show()"
      ],
      "metadata": {
        "colab": {
          "base_uri": "https://localhost:8080/",
          "height": 350
        },
        "id": "d6aQFNIpAM8J",
        "outputId": "6768afda-326b-4515-8940-832ca4d4a76d"
      },
      "execution_count": null,
      "outputs": [
        {
          "output_type": "display_data",
          "data": {
            "text/plain": [
              "<Figure size 360x360 with 1 Axes>"
            ],
            "image/png": "[encoded data removed]"
          },
          "metadata": {
            "needs_background": "light"
          }
        }
      ]
    },
    {
      "cell_type": "markdown",
      "source": [
        "Uma vez que o objetivo do nosso projeto é verificar a probabilidade de que determinada transação é uma fraude ou não e, tendo em vista que nosso dataset possui um conjunto de variáveis (28 variáveis), iremos verificar duas metodologias de predição para comparação: <b>Regressão Logística</b> e <b>Regressão Linear Múltipla</b>. A partir do relatório de classificação, iremos definir qual dos dois modelos iremos utilizar."
      ],
      "metadata": {
        "id": "xfzRQj8Z0-yT"
      }
    },
    {
      "cell_type": "markdown",
      "source": [
        "##Regressão Logística"
      ],
      "metadata": {
        "id": "J-OyVOWFzocB"
      }
    },
    {
      "cell_type": "code",
      "source": [
        "#Bibliotecas utilizadas\n",
        "from sklearn.model_selection import train_test_split\n",
        "from sklearn.preprocessing import StandardScaler\n",
        "from sklearn.metrics import classification_report\n",
        "from sklearn.metrics import confusion_matrix"
      ],
      "metadata": {
        "id": "86vLl_bk1xoP"
      },
      "execution_count": null,
      "outputs": []
    },
    {
      "cell_type": "code",
      "source": [
        "#1. Importar modelo\n",
        "from sklearn.linear_model import LogisticRegression\n",
        "\n",
        "#2. Definir hiperparametros\n",
        "model = LogisticRegression()\n",
        "\n",
        "#3.1. Definir variável X (matriz) e y (alvo)\n",
        "X = df.drop('Class', axis=1)\n",
        "y = df['Class']\n",
        "\n",
        "#3.2. Dividir o dataset em treino e teste\n",
        "X_train, X_test, y_train, y_test = train_test_split(X,y)\n",
        "\n",
        "#3.3. Padronizar os dados de teste\n",
        "scaler = StandardScaler().fit(X_train)\n",
        "X_train = scaler.transform(X_train)\n",
        "\n",
        "#4. Treinar modelo\n",
        "model.fit(X_train, y_train)\n",
        "\n",
        "#5. Fazer previsões em cima dos dados novos\n",
        "X_test = scaler.transform(X_test)\n",
        "y_pred = model.predict(X_test)"
      ],
      "metadata": {
        "id": "RXkhDzxa2tsz"
      },
      "execution_count": null,
      "outputs": []
    },
    {
      "cell_type": "code",
      "source": [
        "#Imprimir relatório de classificação\n",
        "print(classification_report(y_test, y_pred))"
      ],
      "metadata": {
        "colab": {
          "base_uri": "https://localhost:8080/"
        },
        "id": "B2uL_sJy5iz7",
        "outputId": "54d7ada2-a790-49cd-b35f-8540017a3932"
      },
      "execution_count": null,
      "outputs": [
        {
          "output_type": "stream",
          "name": "stdout",
          "text": [
            "              precision    recall  f1-score   support\n",
            "\n",
            "           0       1.00      1.00      1.00     71105\n",
            "           1       0.82      0.69      0.75        97\n",
            "\n",
            "    accuracy                           1.00     71202\n",
            "   macro avg       0.91      0.85      0.87     71202\n",
            "weighted avg       1.00      1.00      1.00     71202\n",
            "\n"
          ]
        }
      ]
    },
    {
      "cell_type": "markdown",
      "source": [
        "Avaliando o relatório de classificação, temos os seguintes dados para o <b>Modelo de Regressão Logística</b>:\n",
        "* Precision (acurácia) = 82%\n",
        "* Recall (% de casos positivos encontrados) = 69%\n",
        "* f1-score (% de casos positivos identificados de forma correta = 75%"
      ],
      "metadata": {
        "id": "2H-lvwkb08P7"
      }
    },
    {
      "cell_type": "code",
      "source": [
        "#Matriz de Confusão\n",
        "fig, ax = plt.subplots()\n",
        "sns.heatmap(confusion_matrix(y_test, y_pred), annot=True, ax=ax, vmax=80)\n",
        "\n",
        "ax.set_title('Matriz de Confusão')\n",
        "ax.set_ylabel('Verdadeiro')\n",
        "ax.set_xlabel('Previsto')\n",
        "\n",
        "plt.show()"
      ],
      "metadata": {
        "colab": {
          "base_uri": "https://localhost:8080/",
          "height": 295
        },
        "id": "V91__ceTzw8M",
        "outputId": "24647c0f-2615-4571-a74d-5bb848a31dcb"
      },
      "execution_count": null,
      "outputs": [
        {
          "output_type": "display_data",
          "data": {
            "text/plain": [
              "<Figure size 432x288 with 2 Axes>"
            ],
            "image/png": "[encoded data removed]"
          },
          "metadata": {
            "needs_background": "light"
          }
        }
      ]
    },
    {
      "cell_type": "markdown",
      "source": [
        "Avaliando a Matriz de Confusão, temos os seguintes dados:\n",
        "* Verdadeiro negativo (TN): 71.090 (99,8%)\n",
        "* Verdadeiro positivo (TP): 67 (0,0009%)\n",
        "* Falso negativo (FN): 30 (0,0004%)\n",
        "* Falso positivo (FP): 15 (0,0002%)"
      ],
      "metadata": {
        "id": "UI5ka8Ka2pBe"
      }
    },
    {
      "cell_type": "markdown",
      "source": [
        "##Regressão Linear Múltipla"
      ],
      "metadata": {
        "id": "4fZG4ZvT5ejF"
      }
    },
    {
      "cell_type": "code",
      "source": [
        "#1. Importar modelo\n",
        "from sklearn.linear_model import LinearRegression\n",
        "\n",
        "#2. Definir hiperparametros\n",
        "model2 = LinearRegression()\n",
        "\n",
        "#3.1. Definir variável X (matriz) e y (alvo)\n",
        "X2 = df.drop('Class', axis=1)\n",
        "y2 = df['Class']\n",
        "\n",
        "#3.2. Dividir o dataset em treino e teste\n",
        "X2_train, X2_test, y2_train, y2_test = train_test_split(X2,y2)\n",
        "\n",
        "#3.3. Padronizar os dados de teste\n",
        "scaler = StandardScaler().fit(X2_train)\n",
        "X2_train = scaler.transform(X2_train)\n",
        "\n",
        "#4. Treinar modelo\n",
        "model.fit(X2_train, y2_train)\n",
        "\n",
        "#5. Fazer previsões em cima dos dados novos\n",
        "X2_test = scaler.transform(X2_test)\n",
        "y2_pred = model.predict(X2_test)"
      ],
      "metadata": {
        "id": "qKaddyvc55-9"
      },
      "execution_count": null,
      "outputs": []
    },
    {
      "cell_type": "code",
      "source": [
        "#Imprimir relatório de classificação\n",
        "print(classification_report(y2_test, y2_pred))"
      ],
      "metadata": {
        "colab": {
          "base_uri": "https://localhost:8080/"
        },
        "id": "OJxytSqT9rVR",
        "outputId": "310e771b-f8e1-4052-c08c-823ba0fdb21f"
      },
      "execution_count": null,
      "outputs": [
        {
          "output_type": "stream",
          "name": "stdout",
          "text": [
            "              precision    recall  f1-score   support\n",
            "\n",
            "           0       1.00      1.00      1.00     71075\n",
            "           1       0.87      0.56      0.68       127\n",
            "\n",
            "    accuracy                           1.00     71202\n",
            "   macro avg       0.93      0.78      0.84     71202\n",
            "weighted avg       1.00      1.00      1.00     71202\n",
            "\n"
          ]
        }
      ]
    },
    {
      "cell_type": "markdown",
      "source": [
        "Para o <b>Modelo de Regressão Linear Múltilpo</b>, os dados foram:\n",
        "* Precision (acurácia) = 87%\n",
        "* Recall (% de casos positivos encontrados) = 56%\n",
        "* f1-score (% de casos positivos identificados de forma correta = 68%\n",
        "\n",
        "\n"
      ],
      "metadata": {
        "id": "AOsDtiCTAawj"
      }
    },
    {
      "cell_type": "code",
      "source": [
        "#Matriz de Confusão\n",
        "fig, ax = plt.subplots()\n",
        "sns.heatmap(confusion_matrix(y2_test, y2_pred), annot=True, ax=ax, vmax=80)\n",
        "\n",
        "ax.set_title('Matriz de Confusão')\n",
        "ax.set_ylabel('Verdadeiro')\n",
        "ax.set_xlabel('Previsto')\n",
        "\n",
        "plt.show()"
      ],
      "metadata": {
        "colab": {
          "base_uri": "https://localhost:8080/",
          "height": 295
        },
        "id": "Bv0dJwdh_Ihp",
        "outputId": "78e60242-f299-40d1-ede3-a9213de10571"
      },
      "execution_count": null,
      "outputs": [
        {
          "output_type": "display_data",
          "data": {
            "text/plain": [
              "<Figure size 432x288 with 2 Axes>"
            ],
            "image/png": "[encoded data removed]"
          },
          "metadata": {
            "needs_background": "light"
          }
        }
      ]
    },
    {
      "cell_type": "markdown",
      "source": [
        "Avaliando a Matriz de Confusão, temos os seguintes dados:\n",
        "* Verdadeiro negativo (TN): 71.064 (99,8%)\n",
        "* Verdadeiro positivo (TP): 71 (0,0009%)\n",
        "* Falso negativo (FN): 56 (0,0007%)\n",
        "* Falso positivo (FP): 11 (0,0001%)"
      ],
      "metadata": {
        "id": "_sUEEK5w_VOv"
      }
    },
    {
      "cell_type": "markdown",
      "source": [
        "##Conclusão\n",
        "\n",
        "Sendo assim, comparando os dois modelos, notamos que o modelo de <b>Regressão Logística</b> apresentou um desempenho um pouco melhor. Quando comparamos o f1-score, temos 75% para a Regressão Logística e 68% para a Regressão Linear Múltipla. Dessa forma, o modelo recomendado para utilização de detecção de frudes de crtão de crétido, é o de Regressão Logística."
      ],
      "metadata": {
        "id": "QcWSKJN--VF7"
      }
    }
  ]
}